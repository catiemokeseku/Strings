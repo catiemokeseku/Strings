{
 "cells": [
  {
   "cell_type": "code",
   "execution_count": 13,
   "id": "166c9fe4",
   "metadata": {},
   "outputs": [],
   "source": [
    "name = 'Kwame'"
   ]
  },
  {
   "cell_type": "code",
   "execution_count": 14,
   "id": "52594692",
   "metadata": {},
   "outputs": [
    {
     "name": "stdout",
     "output_type": "stream",
     "text": [
      "K\n"
     ]
    }
   ],
   "source": [
    "#first character in name\n",
    "print(name[0])"
   ]
  },
  {
   "cell_type": "code",
   "execution_count": 15,
   "id": "af65d70c",
   "metadata": {},
   "outputs": [
    {
     "name": "stdout",
     "output_type": "stream",
     "text": [
      "a\n"
     ]
    }
   ],
   "source": [
    "#third character in name\n",
    "print(name[2])"
   ]
  },
  {
   "cell_type": "code",
   "execution_count": 16,
   "id": "8f47ce40",
   "metadata": {},
   "outputs": [
    {
     "name": "stdout",
     "output_type": "stream",
     "text": [
      "wam\n"
     ]
    }
   ],
   "source": [
    "#slicing through name\n",
    "print(name[1:4])"
   ]
  },
  {
   "cell_type": "code",
   "execution_count": 17,
   "id": "1c887dd4",
   "metadata": {},
   "outputs": [
    {
     "name": "stdout",
     "output_type": "stream",
     "text": [
      "Kwa\n"
     ]
    }
   ],
   "source": [
    "#slicing through name\n",
    "print(name[:3])"
   ]
  },
  {
   "cell_type": "code",
   "execution_count": 18,
   "id": "9c057951",
   "metadata": {},
   "outputs": [
    {
     "name": "stdout",
     "output_type": "stream",
     "text": [
      "ame\n"
     ]
    }
   ],
   "source": [
    "#slicing through name\n",
    "print(name[2:])"
   ]
  },
  {
   "cell_type": "code",
   "execution_count": 19,
   "id": "3cf5c97e",
   "metadata": {},
   "outputs": [],
   "source": [
    "firstname = 'Nana'"
   ]
  },
  {
   "cell_type": "code",
   "execution_count": 20,
   "id": "0f9a0ab4",
   "metadata": {},
   "outputs": [],
   "source": [
    "lastname = 'Yaw'"
   ]
  },
  {
   "cell_type": "code",
   "execution_count": 21,
   "id": "ddf14386",
   "metadata": {},
   "outputs": [],
   "source": [
    "#concatenating firstname and lastname without space\n",
    "fullname = firstname + lastname"
   ]
  },
  {
   "cell_type": "code",
   "execution_count": 22,
   "id": "b042265c",
   "metadata": {},
   "outputs": [
    {
     "name": "stdout",
     "output_type": "stream",
     "text": [
      "NanaYaw\n"
     ]
    }
   ],
   "source": [
    "print(fullname)"
   ]
  },
  {
   "cell_type": "code",
   "execution_count": 23,
   "id": "c962242a",
   "metadata": {},
   "outputs": [],
   "source": [
    "#concatenating firstname and lastname with space\n",
    "fullname = firstname + ' ' + lastname"
   ]
  },
  {
   "cell_type": "code",
   "execution_count": 24,
   "id": "c803051f",
   "metadata": {},
   "outputs": [
    {
     "name": "stdout",
     "output_type": "stream",
     "text": [
      "Nana Yaw\n"
     ]
    }
   ],
   "source": [
    "print(fullname)"
   ]
  },
  {
   "cell_type": "code",
   "execution_count": 25,
   "id": "4e483f37",
   "metadata": {},
   "outputs": [
    {
     "name": "stdout",
     "output_type": "stream",
     "text": [
      "5\n"
     ]
    }
   ],
   "source": [
    "#length of name\n",
    "print(len(name))"
   ]
  },
  {
   "cell_type": "code",
   "execution_count": 26,
   "id": "d216e04c",
   "metadata": {},
   "outputs": [
    {
     "name": "stdout",
     "output_type": "stream",
     "text": [
      "8\n"
     ]
    }
   ],
   "source": [
    "#length of fullname\n",
    "print(len(fullname))"
   ]
  },
  {
   "cell_type": "code",
   "execution_count": 27,
   "id": "f36719cf",
   "metadata": {},
   "outputs": [
    {
     "name": "stdout",
     "output_type": "stream",
     "text": [
      "w\n"
     ]
    }
   ],
   "source": [
    "#last character of fullname\n",
    "print(fullname[len(fullname)-1])"
   ]
  },
  {
   "cell_type": "code",
   "execution_count": 28,
   "id": "d01f7b93",
   "metadata": {},
   "outputs": [
    {
     "name": "stdout",
     "output_type": "stream",
     "text": [
      "N\n",
      "a\n",
      "n\n",
      "a\n",
      " \n",
      "Y\n",
      "a\n",
      "w\n"
     ]
    }
   ],
   "source": [
    "#printing each character in fullname\n",
    "for letter in fullname:\n",
    "    print(letter)"
   ]
  },
  {
   "cell_type": "code",
   "execution_count": 32,
   "id": "97cdda52",
   "metadata": {},
   "outputs": [
    {
     "name": "stdout",
     "output_type": "stream",
     "text": [
      "3\n"
     ]
    }
   ],
   "source": [
    "#counting the number of 'a' in fullname\n",
    "counter = 0\n",
    "for letter in fullname:\n",
    "    if letter == 'a':\n",
    "        counter += 1\n",
    "print(counter)"
   ]
  },
  {
   "cell_type": "code",
   "execution_count": null,
   "id": "642871db",
   "metadata": {},
   "outputs": [],
   "source": []
  }
 ],
 "metadata": {
  "kernelspec": {
   "display_name": "Python 3",
   "language": "python",
   "name": "python3"
  },
  "language_info": {
   "codemirror_mode": {
    "name": "ipython",
    "version": 3
   },
   "file_extension": ".py",
   "mimetype": "text/x-python",
   "name": "python",
   "nbconvert_exporter": "python",
   "pygments_lexer": "ipython3",
   "version": "3.8.8"
  }
 },
 "nbformat": 4,
 "nbformat_minor": 5
}
